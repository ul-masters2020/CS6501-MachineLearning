{
 "cells": [
  {
   "cell_type": "code",
   "execution_count": 4,
   "metadata": {},
   "outputs": [],
   "source": [
    "import pandas as pd  \n",
    "import numpy as np  \n",
    "import matplotlib.pyplot as plt  \n",
    "from sklearn.model_selection import train_test_split \n",
    "from sklearn.linear_model import LinearRegression\n",
    "from sklearn import metrics\n",
    "%matplotlib inline"
   ]
  },
  {
   "cell_type": "markdown",
   "metadata": {},
   "source": [
    "### Weather dataset\n",
    "\n",
    "The dataset `weather_lab.csv` includes daily (min and max) temperature measured by a weather station\n",
    "(366 data pairs).\n",
    "\n",
    "We want to predict the MaxTemp based on the value of the MinTemp recorded. \n",
    "\n",
    "Since the output variable is continuous, this is a **regression problem**.\n",
    "\n",
    "Your task is:\n",
    "1. loading the dataset `weather_lab.csv` using pandas\n",
    "2. counting the number of rows and the number of columns\n",
    "3. splitting the dataset in inputs (denoted as X, that includes the column MinTemp) and output (denoted as y,  column MaxTemp) and transform it into a numpy array using `.values.`\n",
    "4. plot the scatterplot of the data, this is the command\n",
    "\n",
    "`plt.scatter(X,y)\n",
    "plt.xlabel('MinTemp',fontsize=14)\n",
    "plt.ylabel('MaxTemp',fontsize=14) `\n",
    "5. Reshape X so it is a column vector `X=X.reshape(-1,1)`\n",
    "6. randomly splitting the rows in (X,y) in training (60% of the rows) and testing (40% of the rows), you can use the function `train_test_split` from `sklearn`\n",
    "7. training a `LinearRegression` model on the training dataset and predict the output variable for the testing dataset\n",
    "\n",
    "`linreg = LinearRegression(fit_intercept=True)  \n",
    "linreg.fit(x_train, y_train) #training the algorithm\n",
    "y_pred_tr = linreg.predict(x_train)\n",
    "y_pred_te = linreg.predict(x_test)`\n",
    "8. computing the mean squared error (MSE) of the prediction error for the train and test set\n",
    "\n",
    "`np.mean((y_pred_tr-y_train)**2)\n",
    "np.mean((y_pred_te-y_test)**2)`\n",
    "\n",
    "and root mean squared error (RMSE)\n",
    "\n",
    "\n",
    "`np.sqrt(np.mean((y_pred_tr-y_train)**2))\n",
    "np.sqrt(np.mean((y_pred_te-y_test)**2))`\n",
    "\n",
    "RMSE gives the error in the same scale of `y`, \n",
    "e.g. RMSE=4 means that on average the error\n",
    "in the predicted temperature is around $\\pm 4$ degree.\n",
    "9. You can plot the regression line as follows\n",
    "\n",
    "`alpha = linreg.intercept_\n",
    "beta = linreg.coef_[0]\n",
    "plt.plot(X,alpha+beta*X,color='r')\n",
    "plt.scatter(X,y)`\n",
    "\n",
    "\n",
    "**Questions:**\n",
    "10. Predict MaxTemp corresponding to the MinTemp=35, How do you that?\n",
    "11. plot the predicted point together with the scatterplot of the data"
   ]
  },
  {
   "cell_type": "code",
   "execution_count": null,
   "metadata": {},
   "outputs": [],
   "source": []
  }
 ],
 "metadata": {
  "kernelspec": {
   "display_name": "Python 3",
   "language": "python",
   "name": "python3"
  },
  "language_info": {
   "codemirror_mode": {
    "name": "ipython",
    "version": 3
   },
   "file_extension": ".py",
   "mimetype": "text/x-python",
   "name": "python",
   "nbconvert_exporter": "python",
   "pygments_lexer": "ipython3",
   "version": "3.6.9"
  },
  "toc": {
   "base_numbering": 1,
   "nav_menu": {},
   "number_sections": true,
   "sideBar": true,
   "skip_h1_title": false,
   "title_cell": "Table of Contents",
   "title_sidebar": "Contents",
   "toc_cell": false,
   "toc_position": {},
   "toc_section_display": true,
   "toc_window_display": false
  }
 },
 "nbformat": 4,
 "nbformat_minor": 2
}
