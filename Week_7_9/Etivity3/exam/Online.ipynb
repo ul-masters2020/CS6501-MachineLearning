{
 "cells": [
  {
   "cell_type": "markdown",
   "metadata": {},
   "source": [
    "# Exam on 30th Nov 2020: 10:25PM"
   ]
  },
  {
   "cell_type": "code",
   "execution_count": 22,
   "metadata": {},
   "outputs": [
    {
     "name": "stdout",
     "output_type": "stream",
     "text": [
      "[15.44828895]\n"
     ]
    }
   ],
   "source": [
    "import pandas as pd  \n",
    "import numpy as np  \n",
    "\n",
    "from sklearn.model_selection import train_test_split \n",
    "from sklearn.linear_model import LinearRegression\n",
    "from sklearn import metrics\n",
    "%matplotlib inline\n",
    "\n",
    "df = pd.read_csv(\"exam3_dataset.csv\")\n",
    "cols = [\"TV\", \"Radio\", \"Newspaper\"]\n",
    "X = df[cols].values\n",
    "y = df['Sales'].values\n",
    "\n",
    "X_train, X_test, y_train, y_test = train_test_split(X, y, test_size = 0.4)\n",
    "\n",
    "linreg = LinearRegression(fit_intercept=True) #multiple linear regression\n",
    "linreg.fit(X_train, y_train)\n",
    "y_pred_tr = linreg.predict(X_train)\n",
    "y_pred_te = linreg.predict(X_test)\n",
    "\n",
    "X_pred = np.array([[150, 30, 50]])\n",
    "np.mean((y_pred_tr-y_train)**2)\n",
    "np.mean((y_pred_te-y_test)**2)\n",
    "np.sqrt(np.mean((y_pred_tr-y_train)**2))\n",
    "np.sqrt(np.mean((y_pred_te-y_test)**2))\n",
    "\n",
    "y_pred = linreg.predict(X_pred)\n",
    "\n",
    "print(y_pred)\n"
   ]
  }
 ],
 "metadata": {
  "kernelspec": {
   "display_name": "Python 3",
   "language": "python",
   "name": "python3"
  },
  "language_info": {
   "codemirror_mode": {
    "name": "ipython",
    "version": 3
   },
   "file_extension": ".py",
   "mimetype": "text/x-python",
   "name": "python",
   "nbconvert_exporter": "python",
   "pygments_lexer": "ipython3",
   "version": "3.8.5"
  }
 },
 "nbformat": 4,
 "nbformat_minor": 4
}
