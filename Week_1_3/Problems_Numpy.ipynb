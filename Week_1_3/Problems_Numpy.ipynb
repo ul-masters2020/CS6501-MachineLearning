{
 "cells": [
  {
   "cell_type": "markdown",
   "metadata": {},
   "source": [
    "# Numpy"
   ]
  },
  {
   "cell_type": "markdown",
   "metadata": {},
   "source": [
    "\n",
    "This part focuses on Numpy, see <a href=\"http://cs.haverford.edu/faculty/smathieson/teaching/f19/labs/lab01/lab01.html\">numpy quickstart tutorial</a>, which I encourage you to reference throughout the course.\n",
    "\n",
    "\n",
    "Some problems about numpy\n",
    "\n"
   ]
  },
  {
   "cell_type": "markdown",
   "metadata": {},
   "source": [
    "# Problem 1 \n",
    "\n",
    "Create a null vector of size 10 (that is a vector that includes 10 zeros) and print it"
   ]
  },
  {
   "cell_type": "code",
   "execution_count": 1,
   "metadata": {},
   "outputs": [
    {
     "name": "stdout",
     "output_type": "stream",
     "text": [
      "[0. 0. 0. 0. 0. 0. 0. 0. 0. 0.]\n"
     ]
    }
   ],
   "source": [
    "#solution\n",
    "import numpy as np\n",
    "Z = np.zeros(10)\n",
    "print(Z)"
   ]
  },
  {
   "cell_type": "markdown",
   "metadata": {},
   "source": [
    "# Problem 2\n",
    "Create a null vector of size 10 but the fifth value which is 1 "
   ]
  },
  {
   "cell_type": "code",
   "execution_count": 2,
   "metadata": {},
   "outputs": [
    {
     "name": "stdout",
     "output_type": "stream",
     "text": [
      "[0. 0. 0. 0. 1. 0. 0. 0. 0. 0.]\n"
     ]
    }
   ],
   "source": [
    "#Solution of Problem 2\n",
    "import numpy as np\n",
    "a = np.zeros(10)\n",
    "a[4,] = 1\n",
    "print(a)"
   ]
  },
  {
   "cell_type": "markdown",
   "metadata": {},
   "source": [
    "# Problem 3\n",
    "Create a vector with all integer values ranging from 10 to 49 "
   ]
  },
  {
   "cell_type": "code",
   "execution_count": 8,
   "metadata": {},
   "outputs": [
    {
     "name": "stdout",
     "output_type": "stream",
     "text": [
      "[30 13 40 32 41 44 42 43 12 10]\n"
     ]
    }
   ],
   "source": [
    "#Solution of Problem 3\n",
    "import numpy as np\n",
    "a = np.random.randint(10, 49, size=10)\n",
    "print(a)"
   ]
  },
  {
   "cell_type": "markdown",
   "metadata": {},
   "source": [
    "# Problem 4\n",
    " Create a 3x3 matrix with values ranging from 0 to 8 "
   ]
  },
  {
   "cell_type": "code",
   "execution_count": 11,
   "metadata": {},
   "outputs": [
    {
     "name": "stdout",
     "output_type": "stream",
     "text": [
      "[[3 5 6]\n",
      " [6 5 7]\n",
      " [5 5 1]]\n"
     ]
    }
   ],
   "source": [
    "#Solution of Problem 4\n",
    "import numpy as np\n",
    "a = np.random.randint(0, 8, size=(3,3))\n",
    "print(a)"
   ]
  },
  {
   "cell_type": "markdown",
   "metadata": {},
   "source": [
    "# Problem 5\n",
    "Find indices of non-zero elements from [1,2,0,0,4,0]"
   ]
  },
  {
   "cell_type": "code",
   "execution_count": 68,
   "metadata": {},
   "outputs": [
    {
     "data": {
      "text/plain": [
       "(array([0, 1, 4]),)"
      ]
     },
     "execution_count": 68,
     "metadata": {},
     "output_type": "execute_result"
    }
   ],
   "source": [
    "#Solution of Problem 5\n",
    "import numpy as np\n",
    "a = np.array([1,2,0,0,4,0])\n",
    "np.where(a != 0)"
   ]
  },
  {
   "cell_type": "markdown",
   "metadata": {},
   "source": [
    "# Problem 6\n",
    "Create a 3x3 identity matrix"
   ]
  },
  {
   "cell_type": "code",
   "execution_count": 14,
   "metadata": {},
   "outputs": [
    {
     "name": "stdout",
     "output_type": "stream",
     "text": [
      "[[1 0 0]\n",
      " [0 1 0]\n",
      " [0 0 1]]\n"
     ]
    }
   ],
   "source": [
    "#Solution of Problem 6\n",
    "import numpy as np\n",
    "a = np.eye(3,3, dtype=\"int32\")\n",
    "print(a)"
   ]
  },
  {
   "cell_type": "markdown",
   "metadata": {},
   "source": [
    "# Problem 7\n",
    "Create a 3x3x3 array with random values (you can use ` np.random.random`)"
   ]
  },
  {
   "cell_type": "code",
   "execution_count": 18,
   "metadata": {},
   "outputs": [
    {
     "name": "stdout",
     "output_type": "stream",
     "text": [
      "[[[0.91243526 0.28155767 0.84573805]\n",
      "  [0.33746464 0.55666527 0.19029453]\n",
      "  [0.039912   0.60687185 0.16274127]]\n",
      "\n",
      " [[0.66622287 0.57553441 0.51354262]\n",
      "  [0.25051975 0.09110364 0.95719011]\n",
      "  [0.30914562 0.6139765  0.120383  ]]\n",
      "\n",
      " [[0.99181161 0.95678906 0.26856056]\n",
      "  [0.5488123  0.70241688 0.82100684]\n",
      "  [0.35097578 0.20050488 0.70713511]]]\n"
     ]
    }
   ],
   "source": [
    "#Solution of Problem 7\n",
    "import numpy as np\n",
    "a = np.random.random(size=(3,3,3))\n",
    "print(a)"
   ]
  },
  {
   "cell_type": "markdown",
   "metadata": {},
   "source": [
    "# Problem 8\n",
    " Create a 10x10 array with random values and find the minimum and maximum values"
   ]
  },
  {
   "cell_type": "code",
   "execution_count": 23,
   "metadata": {},
   "outputs": [
    {
     "name": "stdout",
     "output_type": "stream",
     "text": [
      "[[42 40 32 25 67 38 62 27 15 40]\n",
      " [53 96 11 23 59 64 38 42 13 65]\n",
      " [41 28 57 55 22 49 23 43 56 15]\n",
      " [34 29 58 80  3  6 66 16 72  9]\n",
      " [91 90 93 26 27 62 62 28 36 66]\n",
      " [32 49 55 69  9 39 74 50 92 91]\n",
      " [70 36 89 58 26 33  9 74 46 89]\n",
      " [17 82 36 47  6 22 14 44 62  9]\n",
      " [ 8 30  8  3 68 15  7 67  3 30]\n",
      " [45 61 43 62  8 47 60 26 96 59]]\n",
      "Max Value:  96\n",
      "Min Value:  3\n"
     ]
    }
   ],
   "source": [
    "#Solution of Problem 8\n",
    "import numpy as np\n",
    "a = np.random.randint(0, 99, size=(10,10))\n",
    "max_value = np.max(a)\n",
    "min_value = np.min(a)\n",
    "print(a)\n",
    "print(\"Max Value: \", max_value)\n",
    "print(\"Min Value: \", min_value)"
   ]
  },
  {
   "cell_type": "markdown",
   "metadata": {},
   "source": [
    "# Problem 9\n",
    "Create a random vector of size 30 and find the mean value \n"
   ]
  },
  {
   "cell_type": "code",
   "execution_count": 25,
   "metadata": {},
   "outputs": [
    {
     "name": "stdout",
     "output_type": "stream",
     "text": [
      "Mean Value:  0.5192091836516389\n"
     ]
    }
   ],
   "source": [
    "#Solution of Problem 9\n",
    "import numpy as np\n",
    "a = np.random.random(size=(30))\n",
    "print(\"Mean Value: \", np.mean(a))"
   ]
  },
  {
   "cell_type": "markdown",
   "metadata": {},
   "source": [
    "# Problem 10\n",
    "\n",
    "Create a 5x5 matrix with values 1,2,3,4 just below the diagonal"
   ]
  },
  {
   "cell_type": "code",
   "execution_count": 31,
   "metadata": {},
   "outputs": [
    {
     "name": "stdout",
     "output_type": "stream",
     "text": [
      "[[0 0 0 0 0]\n",
      " [4 0 0 0 0]\n",
      " [3 4 0 0 0]\n",
      " [2 3 2 0 0]\n",
      " [2 2 4 4 0]]\n"
     ]
    }
   ],
   "source": [
    "#Solution of Problem 10\n",
    "import numpy as np\n",
    "a = np.random.randint(1,5, size=(5, 5))\n",
    "b = np.tril(a, -1)\n",
    "print(b)"
   ]
  },
  {
   "cell_type": "markdown",
   "metadata": {},
   "source": [
    "# Problem 11\n",
    "Normalize a 5x5 random matrix\n",
    "\n",
    "Solution:\n",
    ">Z = np.random.random((5,5))\n",
    ">\n",
    ">Z = (Z - np.mean (Z)) / (np.std (Z))\n",
    ">\n",
    ">print(Z)\n"
   ]
  },
  {
   "cell_type": "code",
   "execution_count": 43,
   "metadata": {},
   "outputs": [
    {
     "name": "stdout",
     "output_type": "stream",
     "text": [
      "[[ 0.9727634   0.0365054  -0.44370678  1.17419912 -1.18814858]\n",
      " [ 0.58920176  1.36671631 -0.60374885 -0.39658258  0.18474367]\n",
      " [-1.0639673  -0.96745164 -1.691497    0.18338493 -0.51859943]\n",
      " [ 1.39847661  1.25220757  1.53500812  1.26462249 -0.26697873]\n",
      " [-1.25901953 -1.44351799 -0.84041908  1.02367157 -0.29786348]]\n"
     ]
    }
   ],
   "source": [
    "#Solution of Problem 11\n",
    "import numpy as np\n",
    "a = np.random.random((5,5))\n",
    "a = (a-np.mean(a))/(np.std(a))\n",
    "print(a)"
   ]
  },
  {
   "cell_type": "markdown",
   "metadata": {},
   "source": [
    "# Problem 12\n",
    "\n",
    "Multiply a 5x3 matrix by a 3x2 matrix (matrix product)"
   ]
  },
  {
   "cell_type": "code",
   "execution_count": 51,
   "metadata": {},
   "outputs": [
    {
     "name": "stdout",
     "output_type": "stream",
     "text": [
      "[[60 84]\n",
      " [54 72]\n",
      " [ 6 57]\n",
      " [48 96]\n",
      " [60 75]]\n"
     ]
    }
   ],
   "source": [
    "#Solution of Problem 12\n",
    "import numpy as np\n",
    "a = np.random.randint(0, 10, size=(5, 3))\n",
    "b = np.random.randint(0, 10, size=(3, 2))\n",
    "c = np.matmul(a, b)\n",
    "print(c)"
   ]
  },
  {
   "cell_type": "markdown",
   "metadata": {},
   "source": [
    "# Problem 13\n",
    "Given a 1D array, negate all elements which are between 3 and 8, in place. "
   ]
  },
  {
   "cell_type": "code",
   "execution_count": 78,
   "metadata": {},
   "outputs": [
    {
     "name": "stdout",
     "output_type": "stream",
     "text": [
      "[0 1 2 3 4 5 6 7 8 9]\n",
      "[[-4 -5 -6 -7]]\n",
      "[ 0  1  2  3 -4 -5 -6 -7  8  9]\n"
     ]
    }
   ],
   "source": [
    "#Solution of Problem 13\n",
    "import numpy as np\n",
    "a = np.arange(10)\n",
    "b = np.negative(np.where((a > 3) & (a < 8)))\n",
    "print(a)\n",
    "print(b)\n",
    "a[4:8] = b\n",
    "print(a)"
   ]
  },
  {
   "cell_type": "markdown",
   "metadata": {},
   "source": [
    "# Problem 14\n",
    "How to find common values between two arrays?\n"
   ]
  },
  {
   "cell_type": "code",
   "execution_count": 88,
   "metadata": {},
   "outputs": [
    {
     "name": "stdout",
     "output_type": "stream",
     "text": [
      "A:\n",
      " [[86  8 55 88 80 78]\n",
      " [66 14 89 27 43 39]\n",
      " [12 69 36 61 94 18]] \n",
      "B:\n",
      " [[44 95 80  0 51 86]\n",
      " [78  1 93 73 20 46]\n",
      " [74 82 96 70 40  9]]\n",
      "Common Values:\n",
      " [78 80 86]\n"
     ]
    }
   ],
   "source": [
    "#Solution of Problem 11\n",
    "import numpy as np\n",
    "a = np.random.randint(0, 99, size=(3,6))\n",
    "b = np.random.randint(0, 99, size=(3,6))\n",
    "c = np.intersect1d(a, b)\n",
    "print(\"A:\\n\",a, \"\\nB:\\n\",b)\n",
    "print(\"Common Values:\\n\", c)"
   ]
  },
  {
   "cell_type": "markdown",
   "metadata": {},
   "source": [
    "# Problem 15\n",
    " Create a random vector of size 10 and sort it \n"
   ]
  },
  {
   "cell_type": "code",
   "execution_count": 82,
   "metadata": {},
   "outputs": [
    {
     "name": "stdout",
     "output_type": "stream",
     "text": [
      "Random Vector--->\n",
      " [0.63126776 0.82900405 0.57793588 0.13688406 0.67906406 0.65202201\n",
      " 0.30964967 0.49755561 0.11187827 0.43775306]\n",
      "Sorted Vector--->\n",
      " [0.11187827 0.13688406 0.30964967 0.43775306 0.49755561 0.57793588\n",
      " 0.63126776 0.65202201 0.67906406 0.82900405]\n"
     ]
    }
   ],
   "source": [
    "#Solution of Problem 15\n",
    "import numpy as np\n",
    "a = np.random.random(size=10)\n",
    "b = np.sort(a)\n",
    "print(\"Random Vector--->\\n\", a)\n",
    "print(\"Sorted Vector--->\\n\", b)"
   ]
  },
  {
   "cell_type": "markdown",
   "metadata": {},
   "source": [
    "# Problem 16\n",
    "Subtract the mean of each row of a matrix (Use `X = np.random.rand(5, 10)` to generate the array)"
   ]
  },
  {
   "cell_type": "code",
   "execution_count": 29,
   "metadata": {},
   "outputs": [
    {
     "name": "stdout",
     "output_type": "stream",
     "text": [
      "A------->\n",
      " [[0.50960381 0.88839434 0.48100546 0.21187854 0.55335685 0.03500322\n",
      "  0.45255099 0.03173355 0.83330041 0.36475625]\n",
      " [0.49054718 0.90799503 0.73554034 0.7031341  0.86185166 0.07463618\n",
      "  0.02040045 0.15984325 0.56588396 0.58063055]\n",
      " [0.87106393 0.3944306  0.21300156 0.92434805 0.56663963 0.84675157\n",
      "  0.98944965 0.06371799 0.16739721 0.88905372]\n",
      " [0.72201826 0.34773664 0.19733373 0.03026188 0.77080948 0.27150563\n",
      "  0.22607152 0.75428868 0.6883606  0.05450653]\n",
      " [0.01075632 0.64442915 0.35480085 0.1193006  0.43079091 0.99142346\n",
      "  0.97101468 0.5463919  0.26612785 0.72294188]]\n",
      "Row Mean------->\n",
      " [[0.43615834]\n",
      " [0.51004627]\n",
      " [0.59258539]\n",
      " [0.4062893 ]\n",
      " [0.50579776]]\n",
      "Resultant Array---------->\n",
      " [[ 0.07344547  0.452236    0.04484712 -0.2242798   0.11719851 -0.40115512\n",
      "   0.01639265 -0.40442479  0.39714207 -0.07140209]\n",
      " [-0.01949909  0.39794876  0.22549407  0.19308783  0.35180539 -0.43541009\n",
      "  -0.48964582 -0.35020302  0.05583769  0.07058428]\n",
      " [ 0.27847853 -0.19815479 -0.37958383  0.33176266 -0.02594576  0.25416618\n",
      "   0.39686426 -0.5288674  -0.42518818  0.29646833]\n",
      " [ 0.31572896 -0.05855266 -0.20895556 -0.37602741  0.36452018 -0.13478367\n",
      "  -0.18021777  0.34799939  0.28207131 -0.35178277]\n",
      " [-0.49504144  0.13863139 -0.15099692 -0.38649716 -0.07500685  0.4856257\n",
      "   0.46521692  0.04059414 -0.23966991  0.21714412]]\n"
     ]
    }
   ],
   "source": [
    "#Solution of Problem 16\n",
    "import numpy as np\n",
    "X = np.random.rand(5, 10)\n",
    "Y = np.mean(X, 1).reshape(5,1)\n",
    "b = np.subtract(X[:], Y[:])\n",
    "print(\"A------->\\n\", X)\n",
    "print(\"Row Mean------->\\n\",Y)\n",
    "print(\"Resultant Array---------->\\n\", b)"
   ]
  },
  {
   "cell_type": "markdown",
   "metadata": {},
   "source": [
    "# Problem 17\n",
    "Find the nearest value from a given value in an array (Use `Z = np.random.uniform(0,1,10)` to generate the array)"
   ]
  },
  {
   "cell_type": "code",
   "execution_count": 17,
   "metadata": {},
   "outputs": [
    {
     "name": "stdout",
     "output_type": "stream",
     "text": [
      "Nearest value:--------->\n",
      " 0.5060312201116851\n"
     ]
    }
   ],
   "source": [
    "#Solution of Problem 17\n",
    "import numpy as np\n",
    "Z = np.random.uniform(0, 1, 10)\n",
    "value = float(np.random.random(1))\n",
    "idx = (np.abs((Z - value))).argmin()\n",
    "nearest_value = Z[idx]\n",
    "print(\"Nearest value:--------->\\n\", nearest_value)"
   ]
  },
  {
   "cell_type": "markdown",
   "metadata": {},
   "source": [
    "# Problem 18\n",
    "How to find the most frequent value in an array? (Use `Z = np.random.randint(0,10,50)` to generate the array)"
   ]
  },
  {
   "cell_type": "code",
   "execution_count": 23,
   "metadata": {},
   "outputs": [
    {
     "name": "stdout",
     "output_type": "stream",
     "text": [
      "Array ----------->\n",
      " [9 2 1 4 9 3 7 3 8 0 6 3 1 5 8 0 1 1 3 8 4 3 7 6 6 8 3 2 7 3 7 3 2 7 6 4 6\n",
      " 2 6 5 5 1 6 1 9 3 3 3 2 6]\n",
      "Most Frequest Value:  3\n"
     ]
    }
   ],
   "source": [
    "#Solution of Problem 18\n",
    "import numpy as np\n",
    "Z = np.random.randint(0,10,50)\n",
    "freq = np.argmax(np.bincount(Z))\n",
    "print(\"Array ----------->\\n\", Z)\n",
    "print(\"Most Frequest Value: \", freq)"
   ]
  },
  {
   "cell_type": "markdown",
   "metadata": {},
   "source": [
    "# Problem 19: Multiple exercises about Array creation and modification"
   ]
  },
  {
   "cell_type": "code",
   "execution_count": 24,
   "metadata": {},
   "outputs": [
    {
     "data": {
      "text/plain": [
       "array([[0., 0., 0., 0., 0.],\n",
       "       [0., 0., 0., 0., 0.],\n",
       "       [0., 0., 0., 0., 0.],\n",
       "       [0., 0., 0., 0., 0.]])"
      ]
     },
     "execution_count": 24,
     "metadata": {},
     "output_type": "execute_result"
    }
   ],
   "source": [
    "import numpy as np\n",
    "# create a 4x5 array of zeros\n",
    "\n",
    "m = np.zeros([4,5])\n",
    "m"
   ]
  },
  {
   "cell_type": "code",
   "execution_count": 25,
   "metadata": {},
   "outputs": [
    {
     "data": {
      "text/plain": [
       "array([[ 0,  1,  2,  3,  4],\n",
       "       [ 5,  6,  7,  8,  9],\n",
       "       [10, 11, 12, 13, 14]])"
      ]
     },
     "execution_count": 25,
     "metadata": {},
     "output_type": "execute_result"
    }
   ],
   "source": [
    "# create a 3x5 array of zeros using reshape\n",
    "a = np.arange(15).reshape(3, 5)\n",
    "a\n"
   ]
  },
  {
   "cell_type": "code",
   "execution_count": 26,
   "metadata": {},
   "outputs": [
    {
     "data": {
      "text/plain": [
       "array([6, 7, 8])"
      ]
     },
     "execution_count": 26,
     "metadata": {},
     "output_type": "execute_result"
    }
   ],
   "source": [
    "# create an array from a list\n",
    "b = np.array([6, 7, 8])\n",
    "b"
   ]
  },
  {
   "cell_type": "markdown",
   "metadata": {},
   "source": [
    "**Questions**\n",
    "1. Use the `.shape` attribute to find the shape of `m`, `a`, and `b` above\n",
    "2. Change several of the entries of `m` using assignment (similar to lists, i.e. `m[2][1]`)\n",
    "3. To what dimensions could you `reshape` `m`? Try out a few of these to see how the entries behave.\n",
    "4. What does `reshape` do when -1 is used as part of the shape? For multi-dimensional arrays, how many dimensions can be specified with -1.\n",
    "\n"
   ]
  },
  {
   "cell_type": "code",
   "execution_count": 56,
   "metadata": {},
   "outputs": [
    {
     "name": "stdout",
     "output_type": "stream",
     "text": [
      "Shape of m:  (4, 5)\n",
      "Shape of a:  (10,)\n",
      "Shape of b:  (5, 10)\n",
      "Reshaped M-1:------>\n",
      " [[0. 5. 0. 0.]\n",
      " [1. 0. 0. 0.]\n",
      " [0. 0. 0. 9.]\n",
      " [0. 0. 0. 0.]\n",
      " [0. 0. 0. 3.]]\n",
      "Size of M-1:  (5, 4)\n",
      "Reshaped M-2:------>\n",
      " [[0. 5. 0. 0. 1. 0. 0. 0. 0. 0.]\n",
      " [0. 9. 0. 0. 0. 0. 0. 0. 0. 3.]]\n",
      "Size of M-2:  (2, 10)\n",
      "Reshaped M-3:------>\n",
      " [[0. 5. 0. 0. 1. 0. 0. 0. 0. 0. 0. 9. 0. 0. 0. 0. 0. 0. 0. 3.]]\n",
      "Size of M-3:  (1, 20)\n",
      "Original B=======>\n",
      " [[ 0.07344547  0.452236    0.04484712 -0.2242798   0.11719851 -0.40115512\n",
      "   0.01639265 -0.40442479  0.39714207 -0.07140209]\n",
      " [-0.01949909  0.39794876  0.22549407  0.19308783  0.35180539 -0.43541009\n",
      "  -0.48964582 -0.35020302  0.05583769  0.07058428]\n",
      " [ 0.27847853 -0.19815479 -0.37958383  0.33176266 -0.02594576  0.25416618\n",
      "   0.39686426 -0.5288674  -0.42518818  0.29646833]\n",
      " [ 0.31572896 -0.05855266 -0.20895556 -0.37602741  0.36452018 -0.13478367\n",
      "  -0.18021777  0.34799939  0.28207131 -0.35178277]\n",
      " [-0.49504144  0.13863139 -0.15099692 -0.38649716 -0.07500685  0.4856257\n",
      "   0.46521692  0.04059414 -0.23966991  0.21714412]]\n",
      "Reshaped B-1:------>\n",
      " [ 0.07344547  0.452236    0.04484712 -0.2242798   0.11719851 -0.40115512\n",
      "  0.01639265 -0.40442479  0.39714207 -0.07140209 -0.01949909  0.39794876\n",
      "  0.22549407  0.19308783  0.35180539 -0.43541009 -0.48964582 -0.35020302\n",
      "  0.05583769  0.07058428  0.27847853 -0.19815479 -0.37958383  0.33176266\n",
      " -0.02594576  0.25416618  0.39686426 -0.5288674  -0.42518818  0.29646833\n",
      "  0.31572896 -0.05855266 -0.20895556 -0.37602741  0.36452018 -0.13478367\n",
      " -0.18021777  0.34799939  0.28207131 -0.35178277 -0.49504144  0.13863139\n",
      " -0.15099692 -0.38649716 -0.07500685  0.4856257   0.46521692  0.04059414\n",
      " -0.23966991  0.21714412]\n",
      "Size of B-1:  (50,)\n",
      "Reshaped B-2:------>\n",
      " [[ 0.07344547  0.452236    0.04484712 -0.2242798   0.11719851]\n",
      " [-0.40115512  0.01639265 -0.40442479  0.39714207 -0.07140209]\n",
      " [-0.01949909  0.39794876  0.22549407  0.19308783  0.35180539]\n",
      " [-0.43541009 -0.48964582 -0.35020302  0.05583769  0.07058428]\n",
      " [ 0.27847853 -0.19815479 -0.37958383  0.33176266 -0.02594576]\n",
      " [ 0.25416618  0.39686426 -0.5288674  -0.42518818  0.29646833]\n",
      " [ 0.31572896 -0.05855266 -0.20895556 -0.37602741  0.36452018]\n",
      " [-0.13478367 -0.18021777  0.34799939  0.28207131 -0.35178277]\n",
      " [-0.49504144  0.13863139 -0.15099692 -0.38649716 -0.07500685]\n",
      " [ 0.4856257   0.46521692  0.04059414 -0.23966991  0.21714412]]\n",
      "Size of B-2:  (10, 5)\n"
     ]
    }
   ],
   "source": [
    "#Answer to Question 1\n",
    "print(\"Shape of m: \", m.shape)\n",
    "print(\"Shape of a: \", a.shape)\n",
    "print(\"Shape of b: \", b.shape)\n",
    "#Answer to Question 2\n",
    "m[2, 1] = 9\n",
    "m[0,1] = 5\n",
    "m[3,4] = 3\n",
    "m[0,4] = 1\n",
    "#Answer to question 3\n",
    "#Reshape 1\n",
    "m_1 = np.reshape(m, (5,4))\n",
    "print(\"Reshaped M-1:------>\\n\",m_1)\n",
    "print(\"Size of M-1: \", m_1.shape)\n",
    "#Reshape 2\n",
    "m_2 = np.reshape(m, (2,10))\n",
    "print(\"Reshaped M-2:------>\\n\",m_2)\n",
    "print(\"Size of M-2: \", m_2.shape)\n",
    "#Reshape 3\n",
    "m_3 = np.reshape(m, (1,20))\n",
    "print(\"Reshaped M-3:------>\\n\",m_3)\n",
    "print(\"Size of M-3: \", m_3.shape)\n",
    "#Answer to question 4\n",
    "print(\"Original B=======>\\n\", b)\n",
    "#Reshape for B -1\n",
    "b_1 = np.reshape(b, (-1))\n",
    "print(\"Reshaped B-1:------>\\n\",b_1)\n",
    "print(\"Size of B-1: \", b_1.shape)\n",
    "#Reshape for B-2\n",
    "b_2 = np.reshape(b, (-5, 5))\n",
    "print(\"Reshaped B-2:------>\\n\",b_2)\n",
    "print(\"Size of B-2: \", b_2.shape)"
   ]
  },
  {
   "cell_type": "markdown",
   "metadata": {},
   "source": [
    "# Problem 20: Multiple exercises about Array slicing and concatenation\n",
    "\n",
    "Try out the slicing operations below, predicting what will be printed each time. Make sure you have modified the m array enough that output is clear."
   ]
  },
  {
   "cell_type": "code",
   "execution_count": 58,
   "metadata": {},
   "outputs": [
    {
     "name": "stdout",
     "output_type": "stream",
     "text": [
      "[[0. 5. 0. 0. 1.]\n",
      " [0. 0. 0. 0. 0.]\n",
      " [0. 9. 0. 0. 0.]\n",
      " [0. 0. 0. 0. 3.]]\n",
      "[0. 9. 0. 0. 0.] \n",
      "\n",
      " [5. 0. 9. 0.] \n",
      "\n",
      " [[0. 5.]\n",
      " [0. 0.]\n",
      " [0. 9.]]\n"
     ]
    }
   ],
   "source": [
    "print(m)\n",
    "print(m[2],'\\n\\n',m[:,1],'\\n\\n', m[:3,:2])"
   ]
  },
  {
   "cell_type": "markdown",
   "metadata": {},
   "source": [
    "**Exercises**\n",
    "1. Look up the `concatenate` function and apply it to your `m` array and `a` array to produce an 7x5 array.\n",
    "2. Look up the `sort` function (from `numpy`) and apply it to both axes of your `m` array (as well as `axis=None`) and make sure the output makes sense."
   ]
  },
  {
   "cell_type": "code",
   "execution_count": 77,
   "metadata": {},
   "outputs": [
    {
     "name": "stdout",
     "output_type": "stream",
     "text": [
      "[[0.         5.         0.         0.         1.         0.\n",
      "  0.         0.         0.         0.         0.50960381 0.88839434\n",
      "  0.48100546 0.21187854 0.55335685]\n",
      " [0.         9.         0.         0.         0.         0.\n",
      "  0.         0.         0.         3.         0.03500322 0.45255099\n",
      "  0.03173355 0.83330041 0.36475625]] (2, 15)\n",
      "Sorted M:========>\n",
      " [[0. 0. 0. 0. 0. 0. 0. 0. 1. 5.]\n",
      " [0. 0. 0. 0. 0. 0. 0. 0. 3. 9.]]\n",
      "Sorted M-1:========>\n",
      " [0. 0. 0. 0. 0. 0. 0. 0. 0. 0. 0. 0. 0. 0. 0. 0. 1. 3. 5. 9.]\n"
     ]
    }
   ],
   "source": [
    "m = np.reshape(m, (2,10))\n",
    "a = np.reshape(a, (2, 5))\n",
    "c = np.concatenate((m, a), axis = 1)\n",
    "print(c, c.shape)\n",
    "m_sort = np.sort(m, axis=1)\n",
    "print(\"Sorted M:========>\\n\", m_sort)\n",
    "m_sort1 = np.sort(m, axis=None)\n",
    "print(\"Sorted M-1:========>\\n\", m_sort1)"
   ]
  }
 ],
 "metadata": {
  "kernelspec": {
   "display_name": "Python 3",
   "language": "python",
   "name": "python3"
  },
  "language_info": {
   "codemirror_mode": {
    "name": "ipython",
    "version": 3
   },
   "file_extension": ".py",
   "mimetype": "text/x-python",
   "name": "python",
   "nbconvert_exporter": "python",
   "pygments_lexer": "ipython3",
   "version": "3.8.5"
  },
  "toc": {
   "base_numbering": 1,
   "nav_menu": {},
   "number_sections": false,
   "sideBar": true,
   "skip_h1_title": false,
   "title_cell": "Table of Contents",
   "title_sidebar": "Contents",
   "toc_cell": false,
   "toc_position": {},
   "toc_section_display": true,
   "toc_window_display": false
  }
 },
 "nbformat": 4,
 "nbformat_minor": 4
}
