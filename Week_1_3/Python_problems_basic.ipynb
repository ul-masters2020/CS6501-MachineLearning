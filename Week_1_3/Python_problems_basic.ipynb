{
 "cells": [
  {
   "cell_type": "markdown",
   "metadata": {},
   "source": [
    "# Problem 1\n",
    "Create a Python function that takes two numbers as arguments and return their sum.\n",
    "\n",
    "Examples\n",
    "\n",
    ">addition(3, 2) ➞ 5\n",
    ">\n",
    ">addition(-3, -6) ➞ -9\n",
    ">\n",
    ">addition(7, 3) ➞ 10\n",
    "\n",
    "Notes\n",
    "\n",
    "* Don't forget to return the `result`.\n"
   ]
  },
  {
   "cell_type": "code",
   "execution_count": 1,
   "metadata": {},
   "outputs": [],
   "source": [
    "#Solution\n",
    "def addition(a, b):\n",
    "    return a + b"
   ]
  },
  {
   "cell_type": "markdown",
   "metadata": {},
   "source": [
    "# Problem 2"
   ]
  },
  {
   "cell_type": "markdown",
   "metadata": {},
   "source": [
    "Create a function that takes a number as an argument, increments the number by +1 and returns the result.\n",
    "\n",
    "Examples\n",
    "\n",
    ">addition(0) ➞ 1\n",
    ">\n",
    ">addition(9) ➞ 10\n",
    ">\n",
    ">addition(-3) ➞ -2\n",
    "\n"
   ]
  },
  {
   "cell_type": "code",
   "execution_count": 2,
   "metadata": {},
   "outputs": [],
   "source": [
    "#Solution of problem 2\n",
    "def increment(n):\n",
    "    return n + 1"
   ]
  },
  {
   "cell_type": "markdown",
   "metadata": {},
   "source": [
    "# Problem 3"
   ]
  },
  {
   "cell_type": "markdown",
   "metadata": {},
   "source": [
    "Create a function that takes a string and returns it as an integer.\n",
    "\n",
    "Examples\n",
    "\n",
    ">string_int(\"6\") ➞ 6\n",
    ">\n",
    ">string_int(\"1000\") ➞ 1000\n",
    ">\n",
    ">string_int(\"12\") ➞ 12\n",
    "\n",
    "Notes\n",
    "\n",
    "All numbers will be whole numbers."
   ]
  },
  {
   "cell_type": "code",
   "execution_count": 3,
   "metadata": {},
   "outputs": [],
   "source": [
    "#Solution of Problem 3\n",
    "def string_int(s):\n",
    "    try:\n",
    "        return int(s)\n",
    "    except ValueError:\n",
    "        print(\"Please Enter a Valid String!\")"
   ]
  },
  {
   "cell_type": "markdown",
   "metadata": {},
   "source": [
    "# Problem 4"
   ]
  },
  {
   "cell_type": "markdown",
   "metadata": {},
   "source": [
    "Create a function that takes a base number and an exponent number and returns the calculation.\n",
    "\n",
    "Examples\n",
    "\n",
    ">calculate_exponent(5, 5) ➞ 3125\n",
    ">\n",
    ">calculate_exponent(10, 10) ➞ 10000000000\n",
    ">\n",
    ">calculate_exponent(3, 3) ➞ 27\n",
    "\n",
    "Notes\n",
    "\n",
    "    All test inputs will be positive integers.\n",
    "    Don't forget to return the result.\n"
   ]
  },
  {
   "cell_type": "code",
   "execution_count": 4,
   "metadata": {},
   "outputs": [],
   "source": [
    "#Solution of Problem 4\n",
    "def calculate_exponent(b, e):\n",
    "    '''Check for the positive values'''\n",
    "    if b > 0 and e > 0:\n",
    "        return b ** e\n",
    "    else:\n",
    "        print(\"Please Enter Positive Integers!\")"
   ]
  },
  {
   "cell_type": "markdown",
   "metadata": {},
   "source": [
    "# Problem 5\n",
    "\n",
    "Create a function that takes an integer and returns the factorial of that integer. That is, the integer multiplied by all positive lower integers.\n",
    "\n",
    "Examples\n",
    "\n",
    ">factorial(3) ➞ 6\n",
    ">\n",
    ">factorial(5) ➞ 120\n",
    ">\n",
    ">factorial(13) ➞ 6227020800\n",
    "\n",
    "Notes\n",
    "\n",
    "Assume all inputs are greater than or equal to 0."
   ]
  },
  {
   "cell_type": "code",
   "execution_count": 16,
   "metadata": {},
   "outputs": [],
   "source": [
    "#Solution of Problem 5\n",
    "def factorial(n):\n",
    "    if n == 1 or n == 0:\n",
    "        return 1\n",
    "    elif n < 0:\n",
    "        return None\n",
    "    else:\n",
    "        return n * factorial(n-1)    "
   ]
  },
  {
   "cell_type": "markdown",
   "metadata": {},
   "source": [
    "# Problem 6\n",
    "\n",
    "Create a function that returns `true` if a given inequality expression is correct and `false` otherwise.\n",
    "\n",
    "Examples\n",
    ">correct_signs(\"3 < 7 < 11\") ➞ True\n",
    ">\n",
    ">correct_signs(\"13 > 44 > 33 > 1\") ➞ False\n",
    ">\n",
    ">correct_signs(\"1 < 2 < 6 < 9 > 3\") ➞ True\n"
   ]
  },
  {
   "cell_type": "code",
   "execution_count": 3,
   "metadata": {},
   "outputs": [
    {
     "data": {
      "text/plain": [
       "False"
      ]
     },
     "execution_count": 3,
     "metadata": {},
     "output_type": "execute_result"
    }
   ],
   "source": [
    "#Solution of the Problem 6\n",
    "def correct_signs(s):\n",
    "    '''After every element of the string a whitespace is there'''\n",
    "    s_list = s.split(\" \")\n",
    "    for i in range(len(s_list)):\n",
    "        if s_list[i] == \"<\":\n",
    "            if not int(s_list[i-1]) < int(s_list[i+1]):\n",
    "                return False\n",
    "        elif s_list[i] == \">\":\n",
    "            if not int(s_list[i-1]) > int(s_list[i+1]):\n",
    "                return False\n",
    "        else:\n",
    "            continue\n",
    "    return True"
   ]
  },
  {
   "cell_type": "markdown",
   "metadata": {},
   "source": [
    "# Problem 7\n",
    "\n",
    "Write a function that takes a list and a number as arguments. Add the number to the end of the list, then remove the first element of the list. The function should then return the updated list.\n",
    "\n",
    "Examples\n",
    ">next_in_line([5, 6, 7, 8, 9], 1) ➞ [6, 7, 8, 9, 1]\n",
    ">\n",
    ">next_in_line([7, 6, 3, 23, 17], 10) ➞ [6, 3, 23, 17, 10]\n",
    ">\n",
    ">next_in_line([1, 10, 20, 42 ], 6) ➞ [10, 20, 42, 6]\n",
    ">\n",
    ">next_in_line([], 6) ➞ \"No list has been selected\"\n",
    "\n",
    "Notes\n",
    "For an empty list input, return: \"No list has been selected\""
   ]
  },
  {
   "cell_type": "code",
   "execution_count": 37,
   "metadata": {},
   "outputs": [],
   "source": [
    "#Solution of Problem 8\n",
    "def next_in_line(L, n):\n",
    "    L.append(n)\n",
    "    L.pop(0)\n",
    "    return L"
   ]
  },
  {
   "cell_type": "markdown",
   "metadata": {},
   "source": [
    "# Problem 8\n",
    "Create a function that takes a list of strings and integers, and filters out the list so that it returns a list of integers only.\n",
    "\n",
    "Examples\n",
    ">filter_list([1, 2, 3, \"a\", \"b\", 4]) ➞ [1, 2, 3, 4]\n",
    ">\n",
    ">filter_list([\"A\", 0, \"Edabit\", 1729, \"Python\", \"1729\"]) ➞ [0, 1729]\n",
    ">\n",
    ">filter_list([\"Nothing\", \"here\"]) ➞ []\n",
    "\n",
    "Notes\n",
    "Don't overthink this one."
   ]
  },
  {
   "cell_type": "code",
   "execution_count": 43,
   "metadata": {},
   "outputs": [
    {
     "data": {
      "text/plain": [
       "[]"
      ]
     },
     "execution_count": 43,
     "metadata": {},
     "output_type": "execute_result"
    }
   ],
   "source": [
    "#Solution of Problem 8\n",
    "def filter_list(L):\n",
    "    return [value for value in L if type(value) == type(1)]\n",
    "filter_list([\"Nothing\", \"here\"])\n",
    "        "
   ]
  },
  {
   "cell_type": "markdown",
   "metadata": {},
   "source": [
    "# Problem 9\n",
    "\n",
    "A set is a collection of unique items. A set can be formed from a list from removing all duplicate items.\n",
    "\n",
    ">[1, 3, 3, 5, 5, 5]\n",
    ">\\# original list\n",
    ">\n",
    ">[1, 3, 5]\n",
    ">\\# original list transformed into a set\n",
    "\n",
    "Create a function that sorts a list and removes all duplicate items from it.\n",
    "\n",
    "Examples\n",
    "\n",
    ">setify([1, 3, 3, 5, 5]) ➞ [1, 3, 5]\n",
    ">\n",
    ">setify([4, 4, 4, 4]) ➞ [4]\n",
    ">\n",
    ">setify([5, 7, 8, 9, 10, 15]) ➞ [5, 7, 8, 9, 10, 15]\n",
    "\n",
    ">setify([3, 3, 3, 2, 1]) ➞ [1, 2, 3]\n",
    "\n",
    "Notes\n",
    "Return a sorted list."
   ]
  },
  {
   "cell_type": "code",
   "execution_count": 48,
   "metadata": {},
   "outputs": [],
   "source": [
    "#Solution of Problem 9\n",
    "def setify(L):\n",
    "    return list(set(L))"
   ]
  },
  {
   "cell_type": "markdown",
   "metadata": {},
   "source": [
    "# Problem 10\n",
    "Create a function that takes a string and returns a new string with all vowels removed.\n",
    "\n",
    "Examples:\n",
    ">remove_vowels(\"I have never seen a thin person drinking Diet Coke.\")\n",
    "➞ \" hv nvr sn  thn prsn drnkng Dt Ck.\"\n",
    ">\n",
    ">remove_vowels(\"We're gonna build a wall!\")\n",
    "➞ \"W'r gnn bld  wll!\"\n",
    ">\n",
    ">remove_vowels(\"Happy Thanksgiving to all--even the haters and losers!\")\n",
    "➞ \"Hppy Thnksgvng t ll--vn th htrs nd lsrs!\""
   ]
  },
  {
   "cell_type": "code",
   "execution_count": 53,
   "metadata": {},
   "outputs": [],
   "source": [
    "#Solution of Problem 10\n",
    "def remove_vowels(s):\n",
    "    new_str = \"\"\n",
    "    for char in s:\n",
    "        if char not in \"aeiou\":\n",
    "            new_str += char\n",
    "    return new_str"
   ]
  },
  {
   "cell_type": "markdown",
   "metadata": {},
   "source": [
    "# Problem 11\n",
    "Create a function that returns the sum of all even elements in a 2D matrix.\n",
    "\n",
    "Examples\n",
    ">sum_of_evens([\n",
    "  [1, 0, 2],\n",
    "  [5, 5, 7],\n",
    "  [9, 4, 3]\n",
    "]) ➞ 6\n",
    ">\n",
    ">sum_of_evens([\n",
    "  [1, 1],\n",
    "  [1, 1]\n",
    "]) ➞ 0\n",
    ">\n",
    ">sum_of_evens([\n",
    "  [42, 9],\n",
    "  [16, 8]\n",
    "]) ➞ 66\n",
    ">\n",
    ">sum_of_evens([\n",
    "  [],\n",
    "  [],\n",
    "  []\n",
    "]) ➞ 0\n",
    "\n",
    "Notes\n",
    "\n",
    "    Submatrices will be of equal length.\n",
    "    Return 0 if the 2D matrix only consists of empty submatrices."
   ]
  },
  {
   "cell_type": "code",
   "execution_count": 57,
   "metadata": {},
   "outputs": [],
   "source": [
    "#Solution of Problem 11\n",
    "def sum_of_evens(L):\n",
    "    result = 0\n",
    "    if not any(L):\n",
    "        return result\n",
    "    for row in L:\n",
    "        for element in row:\n",
    "            if element % 2 == 0:\n",
    "                result += element\n",
    "            else:\n",
    "                continue\n",
    "    return result"
   ]
  },
  {
   "cell_type": "markdown",
   "metadata": {},
   "source": [
    "# Problem 12\n",
    "In each input list, every number repeats at least once, except for two. Write a function that returns the two unique numbers.\n",
    "\n",
    "Examples\n",
    ">return_unique([1, 9, 8, 8, 7, 6, 1, 6]) ➞ [9, 7]\n",
    ">\n",
    ">return_unique([5, 5, 2, 4, 4, 4, 9, 9, 9, 1]) ➞ [2, 1]\n",
    ">\n",
    ">return_unique([9, 5, 6, 8, 7, 7, 1, 1, 1, 1, 1, 9, 8]) ➞ [5, 6]\n",
    "\n",
    "Notes\n",
    "\n",
    "Keep the same ordering in the output."
   ]
  },
  {
   "cell_type": "code",
   "execution_count": 1,
   "metadata": {},
   "outputs": [
    {
     "data": {
      "text/plain": [
       "[9, 7, 3, 11]"
      ]
     },
     "execution_count": 1,
     "metadata": {},
     "output_type": "execute_result"
    }
   ],
   "source": [
    "#Solution of Problem 12\n",
    "def return_unique(L):\n",
    "    return [element for element in L if L.count(element) == 1]\n",
    "return_unique([1, 9, 8, 8, 7, 6, 1, 6, 5, 5, 1, 3, 11])"
   ]
  },
  {
   "cell_type": "markdown",
   "metadata": {},
   "source": [
    "# Problem 13\n",
    "This is a reverse coding challenge. Normally you're given explicit directions with how to create a function. Here, you must generate your own function to satisfy the relationship between the inputs and outputs.\n",
    "\n",
    "Your task is to create a function that, when fed the inputs below, produces the sample outputs shown.\n",
    "\n",
    ">mystery_func(152) ➞ 10\n",
    ">\n",
    ">mystery_func(832) ➞ 48\n",
    ">\n",
    ">mystery_func(19) ➞ 9\n",
    ">\n",
    ">mystery_func(133) ➞ 9"
   ]
  },
  {
   "cell_type": "code",
   "execution_count": 68,
   "metadata": {},
   "outputs": [],
   "source": [
    "#Solution of Problem 13\n",
    "def mystery_func(n):\n",
    "    '''A function which multiply the digits of the argument passed!'''\n",
    "    n_str = str(n)\n",
    "    product = 1\n",
    "    for digit in n_str:\n",
    "        product *= int(digit)\n",
    "    return product"
   ]
  },
  {
   "cell_type": "markdown",
   "metadata": {},
   "source": [
    "# Problem 14\n",
    "Build a function that creates histograms. Every bar needs to be on a new line and its length corresponds to the numbers in the list passed as an argument. The second argument of the function represents the character that needs to be used.\n",
    "\n",
    "> histogram(lst, char) -> str\n",
    "\n",
    "Examples\n",
    ">histogram([1, 3, 4], \"\\#\") ➞ \"\\#\\n\\#\\#\\#\\n\\#\\#\\#\\#\"\n",
    ">\n",
    ">\\#\n",
    ">\n",
    ">\\###\n",
    ">\n",
    ">\\####\n",
    ">\n",
    ">histogram([6, 2, 15, 3], \"=\") ➞ \"======\\n==\\n===============\\n===\"\n",
    ">\n",
    ">======\n",
    ">\n",
    ">==\n",
    ">\n",
    ">===============\n",
    ">\n",
    ">===\n",
    ">\n",
    ">histogram([1, 10], \"+\") ➞ \"+\\n++++++++++\"\n",
    ">\n",
    ">+\n",
    ">\n",
    ">++++++++++"
   ]
  },
  {
   "cell_type": "code",
   "execution_count": 73,
   "metadata": {},
   "outputs": [],
   "source": [
    "#Solution of Problem 14\n",
    "def histogram(L, symbol):\n",
    "    result = \"\"\n",
    "    for i in range(len(L)):\n",
    "        result += symbol * L[i]\n",
    "        if i != len(L) - 1:\n",
    "            result += \"\\n\"\n",
    "        return result"
   ]
  },
  {
   "cell_type": "markdown",
   "metadata": {},
   "source": [
    "# Problem 15\n",
    "Welcome to part two of the collection for Computer Science Algorithms. This challenge will deal further with writing recursive functions by covering the Euclidean Algorithm. The \"Euclidean Algorithm\" is a method for finding the greatest common divisor (GCD) of two numbers. It was originally described by the Greek mathematician Euclid.\n",
    "Algorithm\n",
    "\n",
    "For the sake of simplicity I'll refer to the first number as \"a\", the second number as \"b\", and the remainder as \"r\". The algorithm can be broken down into four steps:\n",
    "\n",
    "    Ensure that \"a\" >= \"b\". If \"a\" < \"b\", swap them.\n",
    "    Find the remainder. Divide \"a\" by \"b\" and set \"r\" as the remainder.\n",
    "    Is \"r\" zero? If so terminate the function and return \"b\" (the second number).\n",
    "    Set \"a\" = \"b\" and \"b\" = \"r\" and start the algorithm over again.\n",
    "\n",
    "Instructions\n",
    "\n",
    "Create a recursive function that returns the GCD between two positive numbers using the Euclidean Algorithm.\n",
    "\n",
    "Examples\n",
    ">euclidean(8, 6) ➞ 2\n",
    ">\n",
    ">euclidean(25, 5) ➞ 5\n",
    ">\n",
    ">euclidean(49, 14) ➞ 7\n",
    "\n",
    "Notes\n",
    "\n",
    "    Remember that to find the remainder of two numbers use the modulus % operator.\n",
    "    Both numbers will be positive and neither number will be null."
   ]
  },
  {
   "cell_type": "code",
   "execution_count": 2,
   "metadata": {},
   "outputs": [
    {
     "data": {
      "text/plain": [
       "2"
      ]
     },
     "execution_count": 2,
     "metadata": {},
     "output_type": "execute_result"
    }
   ],
   "source": [
    "#Solution of problem 15\n",
    "def euclidean(a, b):\n",
    "    if a < b:\n",
    "        a, b = b, a\n",
    "    r = a % b\n",
    "    if r == 0:\n",
    "        return b\n",
    "    else:\n",
    "        a = b\n",
    "        b = r\n",
    "        return euclidean(b, r)\n",
    "euclidean(8, 6)"
   ]
  }
 ],
 "metadata": {
  "kernelspec": {
   "display_name": "Python 3",
   "language": "python",
   "name": "python3"
  },
  "language_info": {
   "codemirror_mode": {
    "name": "ipython",
    "version": 3
   },
   "file_extension": ".py",
   "mimetype": "text/x-python",
   "name": "python",
   "nbconvert_exporter": "python",
   "pygments_lexer": "ipython3",
   "version": "3.8.5"
  },
  "toc": {
   "base_numbering": 1,
   "nav_menu": {},
   "number_sections": false,
   "sideBar": true,
   "skip_h1_title": false,
   "title_cell": "Table of Contents",
   "title_sidebar": "Contents",
   "toc_cell": false,
   "toc_position": {},
   "toc_section_display": true,
   "toc_window_display": true
  }
 },
 "nbformat": 4,
 "nbformat_minor": 4
}
