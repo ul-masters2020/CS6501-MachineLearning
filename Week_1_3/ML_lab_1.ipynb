{
 "cells": [
  {
   "cell_type": "markdown",
   "metadata": {},
   "source": [
    "# E-tivity: K-Nearest Neighbors"
   ]
  },
  {
   "cell_type": "markdown",
   "metadata": {},
   "source": [
    "## Overview\n",
    "\n",
    "The goal is to implement the K-nearest neighbors algorithm (a supervised machine learning algorithm) and apply it to a real dataset. Along the way you should familiarize yourself with some of the terminology you have read in the note. You will also get a chance to practice with Python and working with large datasets.\n"
   ]
  },
  {
   "cell_type": "markdown",
   "metadata": {},
   "source": [
    "## Dataset introduction\n",
    "\n",
    "The handwritten digit recognition is the ability of computers to recognize human handwritten digits. It is a hard task for the machine because handwritten digits are not perfect and can be made with many different flavors. The handwritten digit recognition is the solution to this problem which uses the image of a digit and recognizes the digit present in the image.\n",
    "\n",
    "The dataset for this E-tivity is a set of handwritten digits from zip codes written on hand-addressed letters. The datasets is separated into “train” and “test”, and is available here:\n",
    "\n",
    "<a href=\"https://web.stanford.edu/~hastie/ElemStatLearn//datasets/zip.train.gz\">train dataset</a>  and \n",
    "<a href=\"https://web.stanford.edu/~hastie/ElemStatLearn//datasets/zip.test.gz\">test dataset</a>\n",
    "\n",
    "Read about this dataset by going to the Elements of Statistical Learning website, <a href=\"https://web.stanford.edu/~hastie/ElemStatLearn/\">ESL</a>, then clicking on the `Data` tab, then clicking on the `Info` for the zip code dataset (the last dataset). \n",
    "    \n",
    "![title](img/rmnist_10.png)\n",
    "\n",
    "Use the command less in the terminal to view the beginning of each file. Both datasets have the same format: the first column is the \"label\" (or class) (here an integer between 0 and 9, inclusive, that corresponds to the identity of a hand-written zip code digit), and the rest of each row is made up of gray-scale values corresponding to the image of this hand-written digit.\n",
    "\n",
    "One useful technique is to load a dataset from a file into a numpy array. Here is an example:"
   ]
  },
  {
   "cell_type": "code",
   "execution_count": 24,
   "metadata": {},
   "outputs": [],
   "source": [
    "import numpy as np\n",
    "import pandas as pd\n",
    "import matplotlib.pyplot as plt\n",
    "from sklearn.model_selection import train_test_split\n",
    "from sklearn.neighbors import KNeighborsClassifier\n",
    "from sklearn.preprocessing import StandardScaler"
   ]
  },
  {
   "cell_type": "code",
   "execution_count": 1,
   "metadata": {},
   "outputs": [
    {
     "name": "stdout",
     "output_type": "stream",
     "text": [
      "(7291, 257)\n",
      "(2007, 257)\n"
     ]
    }
   ],
   "source": [
    "import numpy as np\n",
    "train_data = np.loadtxt(\"train\") #\"path/to/train/file\"\n",
    "test_data  = np.loadtxt(\"test\")\n",
    "\n",
    "print(train_data.shape)\n",
    "print(test_data.shape)"
   ]
  },
  {
   "cell_type": "code",
   "execution_count": 27,
   "metadata": {},
   "outputs": [
    {
     "ename": "ValueError",
     "evalue": "Found input variables with inconsistent numbers of samples: [7291, 2007]",
     "output_type": "error",
     "traceback": [
      "\u001b[0;31m---------------------------------------------------------------------------\u001b[0m",
      "\u001b[0;31mValueError\u001b[0m                                Traceback (most recent call last)",
      "\u001b[0;32m<ipython-input-27-0c6918d47023>\u001b[0m in \u001b[0;36m<module>\u001b[0;34m\u001b[0m\n\u001b[1;32m      5\u001b[0m \u001b[0mX\u001b[0m \u001b[0;34m=\u001b[0m \u001b[0mtrain_data\u001b[0m\u001b[0;34m[\u001b[0m\u001b[0;34m:\u001b[0m\u001b[0;34m,\u001b[0m \u001b[0;36m1\u001b[0m\u001b[0;34m:\u001b[0m\u001b[0;34m]\u001b[0m\u001b[0;34m\u001b[0m\u001b[0;34m\u001b[0m\u001b[0m\n\u001b[1;32m      6\u001b[0m \u001b[0my\u001b[0m \u001b[0;34m=\u001b[0m \u001b[0mtest_data\u001b[0m\u001b[0;34m[\u001b[0m\u001b[0;34m:\u001b[0m\u001b[0;34m,\u001b[0m \u001b[0;36m1\u001b[0m\u001b[0;34m:\u001b[0m\u001b[0;34m]\u001b[0m\u001b[0;34m\u001b[0m\u001b[0;34m\u001b[0m\u001b[0m\n\u001b[0;32m----> 7\u001b[0;31m \u001b[0mX_train\u001b[0m\u001b[0;34m,\u001b[0m \u001b[0mX_test\u001b[0m\u001b[0;34m,\u001b[0m \u001b[0my_train\u001b[0m\u001b[0;34m,\u001b[0m \u001b[0my_test\u001b[0m \u001b[0;34m=\u001b[0m \u001b[0mtrain_test_split\u001b[0m\u001b[0;34m(\u001b[0m\u001b[0mX\u001b[0m\u001b[0;34m,\u001b[0m \u001b[0my\u001b[0m\u001b[0;34m,\u001b[0m \u001b[0mtest_size\u001b[0m \u001b[0;34m=\u001b[0m \u001b[0;36m0.1\u001b[0m\u001b[0;34m)\u001b[0m\u001b[0;34m\u001b[0m\u001b[0;34m\u001b[0m\u001b[0m\n\u001b[0m\u001b[1;32m      8\u001b[0m \u001b[0msc\u001b[0m \u001b[0;34m=\u001b[0m \u001b[0mStandardScaler\u001b[0m\u001b[0;34m(\u001b[0m\u001b[0;34m)\u001b[0m\u001b[0;34m\u001b[0m\u001b[0;34m\u001b[0m\u001b[0m\n\u001b[1;32m      9\u001b[0m \u001b[0mX_train\u001b[0m \u001b[0;34m=\u001b[0m \u001b[0msc\u001b[0m\u001b[0;34m.\u001b[0m\u001b[0mfit_transform\u001b[0m\u001b[0;34m(\u001b[0m\u001b[0mX_train\u001b[0m\u001b[0;34m)\u001b[0m\u001b[0;34m\u001b[0m\u001b[0;34m\u001b[0m\u001b[0m\n",
      "\u001b[0;32m/usr/local/lib/python3.8/dist-packages/sklearn/model_selection/_split.py\u001b[0m in \u001b[0;36mtrain_test_split\u001b[0;34m(*arrays, **options)\u001b[0m\n\u001b[1;32m   2125\u001b[0m         \u001b[0;32mraise\u001b[0m \u001b[0mTypeError\u001b[0m\u001b[0;34m(\u001b[0m\u001b[0;34m\"Invalid parameters passed: %s\"\u001b[0m \u001b[0;34m%\u001b[0m \u001b[0mstr\u001b[0m\u001b[0;34m(\u001b[0m\u001b[0moptions\u001b[0m\u001b[0;34m)\u001b[0m\u001b[0;34m)\u001b[0m\u001b[0;34m\u001b[0m\u001b[0;34m\u001b[0m\u001b[0m\n\u001b[1;32m   2126\u001b[0m \u001b[0;34m\u001b[0m\u001b[0m\n\u001b[0;32m-> 2127\u001b[0;31m     \u001b[0marrays\u001b[0m \u001b[0;34m=\u001b[0m \u001b[0mindexable\u001b[0m\u001b[0;34m(\u001b[0m\u001b[0;34m*\u001b[0m\u001b[0marrays\u001b[0m\u001b[0;34m)\u001b[0m\u001b[0;34m\u001b[0m\u001b[0;34m\u001b[0m\u001b[0m\n\u001b[0m\u001b[1;32m   2128\u001b[0m \u001b[0;34m\u001b[0m\u001b[0m\n\u001b[1;32m   2129\u001b[0m     \u001b[0mn_samples\u001b[0m \u001b[0;34m=\u001b[0m \u001b[0m_num_samples\u001b[0m\u001b[0;34m(\u001b[0m\u001b[0marrays\u001b[0m\u001b[0;34m[\u001b[0m\u001b[0;36m0\u001b[0m\u001b[0;34m]\u001b[0m\u001b[0;34m)\u001b[0m\u001b[0;34m\u001b[0m\u001b[0;34m\u001b[0m\u001b[0m\n",
      "\u001b[0;32m/usr/local/lib/python3.8/dist-packages/sklearn/utils/validation.py\u001b[0m in \u001b[0;36mindexable\u001b[0;34m(*iterables)\u001b[0m\n\u001b[1;32m    290\u001b[0m     \"\"\"\n\u001b[1;32m    291\u001b[0m     \u001b[0mresult\u001b[0m \u001b[0;34m=\u001b[0m \u001b[0;34m[\u001b[0m\u001b[0m_make_indexable\u001b[0m\u001b[0;34m(\u001b[0m\u001b[0mX\u001b[0m\u001b[0;34m)\u001b[0m \u001b[0;32mfor\u001b[0m \u001b[0mX\u001b[0m \u001b[0;32min\u001b[0m \u001b[0miterables\u001b[0m\u001b[0;34m]\u001b[0m\u001b[0;34m\u001b[0m\u001b[0;34m\u001b[0m\u001b[0m\n\u001b[0;32m--> 292\u001b[0;31m     \u001b[0mcheck_consistent_length\u001b[0m\u001b[0;34m(\u001b[0m\u001b[0;34m*\u001b[0m\u001b[0mresult\u001b[0m\u001b[0;34m)\u001b[0m\u001b[0;34m\u001b[0m\u001b[0;34m\u001b[0m\u001b[0m\n\u001b[0m\u001b[1;32m    293\u001b[0m     \u001b[0;32mreturn\u001b[0m \u001b[0mresult\u001b[0m\u001b[0;34m\u001b[0m\u001b[0;34m\u001b[0m\u001b[0m\n\u001b[1;32m    294\u001b[0m \u001b[0;34m\u001b[0m\u001b[0m\n",
      "\u001b[0;32m/usr/local/lib/python3.8/dist-packages/sklearn/utils/validation.py\u001b[0m in \u001b[0;36mcheck_consistent_length\u001b[0;34m(*arrays)\u001b[0m\n\u001b[1;32m    253\u001b[0m     \u001b[0muniques\u001b[0m \u001b[0;34m=\u001b[0m \u001b[0mnp\u001b[0m\u001b[0;34m.\u001b[0m\u001b[0munique\u001b[0m\u001b[0;34m(\u001b[0m\u001b[0mlengths\u001b[0m\u001b[0;34m)\u001b[0m\u001b[0;34m\u001b[0m\u001b[0;34m\u001b[0m\u001b[0m\n\u001b[1;32m    254\u001b[0m     \u001b[0;32mif\u001b[0m \u001b[0mlen\u001b[0m\u001b[0;34m(\u001b[0m\u001b[0muniques\u001b[0m\u001b[0;34m)\u001b[0m \u001b[0;34m>\u001b[0m \u001b[0;36m1\u001b[0m\u001b[0;34m:\u001b[0m\u001b[0;34m\u001b[0m\u001b[0;34m\u001b[0m\u001b[0m\n\u001b[0;32m--> 255\u001b[0;31m         raise ValueError(\"Found input variables with inconsistent numbers of\"\n\u001b[0m\u001b[1;32m    256\u001b[0m                          \" samples: %r\" % [int(l) for l in lengths])\n\u001b[1;32m    257\u001b[0m \u001b[0;34m\u001b[0m\u001b[0m\n",
      "\u001b[0;31mValueError\u001b[0m: Found input variables with inconsistent numbers of samples: [7291, 2007]"
     ]
    }
   ],
   "source": [
    "#Trying everything afresh\n",
    "train_data = np.loadtxt(\"train\") #\"path/to/train/file\"\n",
    "test_data  = np.loadtxt(\"test\")\n",
    "\n",
    "X = train_data[:, 1:]\n",
    "y = test_data[:, 1:]\n",
    "X_train, X_test, y_train, y_test = train_test_split(X, y, test_size = 0.1)\n",
    "sc = StandardScaler()\n",
    "X_train = sc.fit_transform(X_train)\n",
    "X_test = sc.transform(X_test)\n",
    "classifier = KNeighborsClassifier(n_neighbors = 2)\n",
    "classifier.fit(X_train, y_train)\n",
    "y_pred = classifier.predict(X_test)\n",
    "print(y_pred)"
   ]
  },
  {
   "cell_type": "code",
   "execution_count": 7,
   "metadata": {},
   "outputs": [
    {
     "data": {
      "text/plain": [
       "array([[ 6.   , -1.   , -1.   , ..., -1.   , -1.   , -1.   ],\n",
       "       [ 5.   , -1.   , -1.   , ..., -0.671, -0.828, -1.   ],\n",
       "       [ 4.   , -1.   , -1.   , ..., -1.   , -1.   , -1.   ],\n",
       "       ...,\n",
       "       [ 3.   , -1.   , -1.   , ..., -1.   , -1.   , -1.   ],\n",
       "       [ 0.   , -1.   , -1.   , ..., -1.   , -1.   , -1.   ],\n",
       "       [ 1.   , -1.   , -1.   , ..., -1.   , -1.   , -1.   ]])"
      ]
     },
     "execution_count": 7,
     "metadata": {},
     "output_type": "execute_result"
    }
   ],
   "source": [
    "train_data #each row is a different image"
   ]
  },
  {
   "cell_type": "markdown",
   "metadata": {},
   "source": [
    "The first column is the class, it tells us which digit we will find in the image, as you can see hereafter for the first row (it is a 6):"
   ]
  },
  {
   "cell_type": "code",
   "execution_count": 18,
   "metadata": {},
   "outputs": [
    {
     "data": {
      "text/plain": [
       "<matplotlib.image.AxesImage at 0x7ff09661dcd0>"
      ]
     },
     "execution_count": 18,
     "metadata": {},
     "output_type": "execute_result"
    },
    {
     "data": {
      "image/png": "[encoded data removed]",
      "text/plain": [
       "<Figure size 432x288 with 1 Axes>"
      ]
     },
     "metadata": {
      "needs_background": "light"
     },
     "output_type": "display_data"
    }
   ],
   "source": [
    "import matplotlib.pyplot as plt\n",
    "row=0\n",
    "flatten_image=train_data[row,1:] # each 16x16 image has been flatten into a vector\n",
    "im=flatten_image.reshape(16,16)\n",
    "#print(im)#as a matrix\n",
    "plt.gray()\n",
    "plt.imshow(im)#as an image"
   ]
  },
  {
   "cell_type": "markdown",
   "metadata": {},
   "source": [
    "The test set is similar:"
   ]
  },
  {
   "cell_type": "code",
   "execution_count": 21,
   "metadata": {},
   "outputs": [
    {
     "data": {
      "text/plain": [
       "<matplotlib.image.AxesImage at 0x7ff0961f91c0>"
      ]
     },
     "execution_count": 21,
     "metadata": {},
     "output_type": "execute_result"
    },
    {
     "data": {
      "image/png": "[encoded data removed]",
      "text/plain": [
       "<Figure size 432x288 with 1 Axes>"
      ]
     },
     "metadata": {
      "needs_background": "light"
     },
     "output_type": "display_data"
    }
   ],
   "source": [
    "test_data\n",
    "row = 2\n",
    "flatten_image1=test_data[row,1:]\n",
    "im1=flatten_image1.reshape(16,16)\n",
    "plt.gray()\n",
    "plt.imshow(im1)#as an image"
   ]
  },
  {
   "cell_type": "markdown",
   "metadata": {},
   "source": [
    "## Step 2: Filter the Data\n",
    "To start, we will just consider two classes, but here we have 10. We will get to such problems later, but for now, devise a way to retain only the rows which have label 2 or 3. Do this for both the train and test data.\n",
    "\n",
    "One important note: it may be convenient to relabel the 2 to -1 and the 3 to +1, since this will work better with our methods later on (but you do not have to do this).\n"
   ]
  },
  {
   "cell_type": "markdown",
   "metadata": {},
   "source": [
    "## Implement K-nearest neighbors\n",
    "\n",
    "The main goal of the E-tivity is to implement the K-nearest neighbors classifier to predict the class of each example from the test dataset. Exactly how you implement this part is up to you, but your code should be decomposed into functions, well commented, and easy to understand. Here are some suggestions:\n",
    "\n",
    "**Classification**\n",
    "Create a function that takes as input the train set, (at least) a test example and an integer K, and outputs a prediction based on a nearest-neighbor classifier. This function will loop through all the training examples, find the distance between each one and the input test example, and then find the K nearest neighbors (you are welcome to use numpy sorting methods, but look up how they work first). For this subroutine, we will need a distance function. In practice, you have to implement the algorithm 3 in <a href=\"http://ciml.info/dl/v0_99/ciml-v0_99-ch03.pdf\">Duame</a> (pag. 33).\n",
    "\n",
    "\n",
    "You should implement a Python function like:"
   ]
  },
  {
   "cell_type": "code",
   "execution_count": null,
   "metadata": {},
   "outputs": [],
   "source": [
    "#Classification problem\n",
    "def classify(train, test, k):\n",
    "    "
   ]
  },
  {
   "cell_type": "markdown",
   "metadata": {},
   "source": [
    "## Example Implementation\n",
    "Video Link: https://www.youtube.com/watch?v=6kZ-OPLNcgE"
   ]
  },
  {
   "cell_type": "code",
   "execution_count": 6,
   "metadata": {},
   "outputs": [],
   "source": [
    "import operator\n",
    "def getNeighbors(trainingSet, testInstance, k):\n",
    "    distances = []\n",
    "    length = len(testInstance) - 1\n",
    "    for x in range(len(trainingSet)):\n",
    "        dist = euclideanDistance(testInstance, trainingSet[x], length)\n",
    "        distances.append((trainingSet[x], dist))\n",
    "    distances.sort(key=operator.itemgetter(1))\n",
    "    neighbors = []\n",
    "    for x in range(k):\n",
    "        neighbors.append(distances[x][0])\n",
    "    return neighbors\n",
    "        "
   ]
  },
  {
   "cell_type": "code",
   "execution_count": 1,
   "metadata": {},
   "outputs": [],
   "source": [
    "#Finding the distance between two instances\n",
    "import math\n",
    "def euclideanDistance(instance1, instance2, length):\n",
    "    distance = 0\n",
    "    for x in range(length):\n",
    "        distance += pow((instance1[x] - instance2[x]), 2)\n",
    "    return math.sqrt(distance)"
   ]
  },
  {
   "cell_type": "code",
   "execution_count": 40,
   "metadata": {},
   "outputs": [],
   "source": [
    "#Load Data method to load the iris.data \n",
    "import csv\n",
    "import random\n",
    "def loadDataset(filename, split, trainingSet=[], testSet=[]):\n",
    "    with open(filename, 'r') as csvfile:\n",
    "        lines = csv.reader(csvfile)\n",
    "        dataset = list(lines)\n",
    "        for x in range(len(dataset)-1):\n",
    "            for y in range(4):\n",
    "                dataset[x][y] = float(dataset[x][y])\n",
    "            if random.random() < split:\n",
    "                trainingSet.append(dataset[x])\n",
    "            else:\n",
    "                testSet.append(dataset[x])"
   ]
  },
  {
   "cell_type": "code",
   "execution_count": 7,
   "metadata": {},
   "outputs": [
    {
     "name": "stdout",
     "output_type": "stream",
     "text": [
      "[[4, 4, 4, 'b']]\n"
     ]
    }
   ],
   "source": [
    "#Trail of getNeighbor method\n",
    "trainSet = [[2, 2, 2, 'a'],[4, 4, 4, 'b']]\n",
    "trainInstance = [5,5,5]\n",
    "k = 1\n",
    "neighbors = getNeighbors(trainSet, trainInstance, 1)\n",
    "print(neighbors)"
   ]
  },
  {
   "cell_type": "code",
   "execution_count": 15,
   "metadata": {},
   "outputs": [],
   "source": [
    "#Get response method implementation\n",
    "import operator\n",
    "def getResponse(neighbors):\n",
    "    classVotes = {}\n",
    "    for x in range(len(neighbors)):\n",
    "        response = neighbors[x][-1]\n",
    "        if response in classVotes:\n",
    "            classVotes[response] += 1\n",
    "        else:\n",
    "            classVotes[response] = 1\n",
    "    sortedVotes = sorted(classVotes.items(), key=operator.itemgetter(1), reverse=True)\n",
    "    return sortedVotes[0][0]"
   ]
  },
  {
   "cell_type": "code",
   "execution_count": 16,
   "metadata": {},
   "outputs": [
    {
     "name": "stdout",
     "output_type": "stream",
     "text": [
      "a\n"
     ]
    }
   ],
   "source": [
    "#Trial\n",
    "neighbors = [[1, 1, 1, 'a'], [2, 2, 2, 'a'], [3, 3, 3, 'b']]\n",
    "response = getResponse(neighbors)\n",
    "print(response)"
   ]
  },
  {
   "cell_type": "code",
   "execution_count": 25,
   "metadata": {},
   "outputs": [],
   "source": [
    "def getAccuracy(testSet, predictions):\n",
    "    correct = 0\n",
    "    for x in range(len(testSet)):\n",
    "        if testSet[x][-1] in predictions[x]:\n",
    "            correct += 1\n",
    "    try:\n",
    "        return (correct/float(len(testSet))) * 100.0\n",
    "    except ZeroDivisionError:\n",
    "        return 0\n",
    "    "
   ]
  },
  {
   "cell_type": "code",
   "execution_count": 18,
   "metadata": {},
   "outputs": [
    {
     "name": "stdout",
     "output_type": "stream",
     "text": [
      "66.66666666666666\n"
     ]
    }
   ],
   "source": [
    "testSet = [[1, 1, 1, 'a'], [2, 2, 2, 'a'],[3, 3,3, 'b']]\n",
    "predictions = ['a', 'a', 'a']\n",
    "accuracy = getAccuracy(testSet, predictions)\n",
    "print(accuracy)"
   ]
  },
  {
   "cell_type": "code",
   "execution_count": 54,
   "metadata": {},
   "outputs": [
    {
     "name": "stdout",
     "output_type": "stream",
     "text": [
      "Train Set:  106\n",
      "Test Set:  44\n",
      "Predicted = Iris-setosa, Actual = Iris-setosa\n",
      "Predicted = Iris-setosa, Actual = Iris-setosa\n",
      "Predicted = Iris-setosa, Actual = Iris-setosa\n",
      "Predicted = Iris-setosa, Actual = Iris-setosa\n",
      "Predicted = Iris-setosa, Actual = Iris-setosa\n",
      "Predicted = Iris-setosa, Actual = Iris-setosa\n",
      "Predicted = Iris-setosa, Actual = Iris-setosa\n",
      "Predicted = Iris-setosa, Actual = Iris-setosa\n",
      "Predicted = Iris-setosa, Actual = Iris-setosa\n",
      "Predicted = Iris-setosa, Actual = Iris-setosa\n",
      "Predicted = Iris-setosa, Actual = Iris-setosa\n",
      "Predicted = Iris-setosa, Actual = Iris-setosa\n",
      "Predicted = Iris-setosa, Actual = Iris-setosa\n",
      "Predicted = Iris-setosa, Actual = Iris-setosa\n",
      "Predicted = Iris-setosa, Actual = Iris-setosa\n",
      "Predicted = Iris-versicolor, Actual = Iris-versicolor\n",
      "Predicted = Iris-versicolor, Actual = Iris-versicolor\n",
      "Predicted = Iris-versicolor, Actual = Iris-versicolor\n",
      "Predicted = Iris-versicolor, Actual = Iris-versicolor\n",
      "Predicted = Iris-versicolor, Actual = Iris-versicolor\n",
      "Predicted = Iris-versicolor, Actual = Iris-versicolor\n",
      "Predicted = Iris-versicolor, Actual = Iris-versicolor\n",
      "Predicted = Iris-versicolor, Actual = Iris-versicolor\n",
      "Predicted = Iris-versicolor, Actual = Iris-versicolor\n",
      "Predicted = Iris-versicolor, Actual = Iris-versicolor\n",
      "Predicted = Iris-versicolor, Actual = Iris-versicolor\n",
      "Predicted = Iris-versicolor, Actual = Iris-versicolor\n",
      "Predicted = Iris-versicolor, Actual = Iris-versicolor\n",
      "Predicted = Iris-virginica, Actual = Iris-virginica\n",
      "Predicted = Iris-versicolor, Actual = Iris-virginica\n",
      "Predicted = Iris-virginica, Actual = Iris-virginica\n",
      "Predicted = Iris-virginica, Actual = Iris-virginica\n",
      "Predicted = Iris-virginica, Actual = Iris-virginica\n",
      "Predicted = Iris-virginica, Actual = Iris-virginica\n",
      "Predicted = Iris-virginica, Actual = Iris-virginica\n",
      "Predicted = Iris-virginica, Actual = Iris-virginica\n",
      "Predicted = Iris-virginica, Actual = Iris-virginica\n",
      "Predicted = Iris-versicolor, Actual = Iris-virginica\n",
      "Predicted = Iris-virginica, Actual = Iris-virginica\n",
      "Predicted = Iris-virginica, Actual = Iris-virginica\n",
      "Predicted = Iris-virginica, Actual = Iris-virginica\n",
      "Predicted = Iris-virginica, Actual = Iris-virginica\n",
      "Predicted = Iris-virginica, Actual = Iris-virginica\n",
      "Predicted = Iris-virginica, Actual = Iris-virginica\n",
      "Accuracy = 95.45454545454545%\n"
     ]
    }
   ],
   "source": [
    "def main():\n",
    "    testSet = []\n",
    "    trainingSet = []\n",
    "    split = 0.67\n",
    "    loadDataset('iris.data', split, trainingSet, testSet)\n",
    "    print('Train Set: ', len(trainingSet))\n",
    "    print('Test Set: ', len(testSet))\n",
    "    #generate predictions\n",
    "    predictions = []\n",
    "    k = 3\n",
    "    for x in range(len(testSet)):\n",
    "        neighbors = getNeighbors(trainingSet, testSet[x], k)\n",
    "        result = getResponse(neighbors)\n",
    "        predictions.append(result)\n",
    "        print(f\"Predicted = {result}, Actual = {testSet[x][-1]}\")\n",
    "    accuracy = getAccuracy(testSet, predictions)\n",
    "    print(f\"Accuracy = {accuracy}%\", )\n",
    "main()"
   ]
  },
  {
   "cell_type": "markdown",
   "metadata": {},
   "source": [
    "# Alessio implementation of Iris (KNN)"
   ]
  },
  {
   "cell_type": "code",
   "execution_count": 2,
   "metadata": {},
   "outputs": [
    {
     "name": "stdout",
     "output_type": "stream",
     "text": [
      "[[5.1 3.5]\n",
      " [4.9 3. ]\n",
      " [4.7 3.2]\n",
      " [4.6 3.1]\n",
      " [5.  3.6]]\n"
     ]
    }
   ],
   "source": [
    "from sklearn import datasets\n",
    "\n",
    "#import some data\n",
    "iris = datasets.load_iris()\n",
    "X = iris.data[:, :2]\n",
    "Y = iris.target\n",
    "\n",
    "print(X[0:5, ])"
   ]
  },
  {
   "cell_type": "code",
   "execution_count": 4,
   "metadata": {},
   "outputs": [
    {
     "data": {
      "text/plain": [
       "array([0, 0, 0, 0, 0, 0, 0, 0, 0, 0, 0, 0, 0, 0, 0, 0, 0, 0, 0, 0, 0, 0,\n",
       "       0, 0, 0, 0, 0, 0, 0, 0, 0, 0, 0, 0, 0, 0, 0, 0, 0, 0, 0, 0, 0, 0,\n",
       "       0, 0, 0, 0, 0, 0, 1, 1, 1, 1, 1, 1, 1, 1, 1, 1, 1, 1, 1, 1, 1, 1,\n",
       "       1, 1, 1, 1, 1, 1, 1, 1, 1, 1, 1, 1, 1, 1, 1, 1, 1, 1, 1, 1, 1, 1,\n",
       "       1, 1, 1, 1, 1, 1, 1, 1, 1, 1, 1, 1, 2, 2, 2, 2, 2, 2, 2, 2, 2, 2,\n",
       "       2, 2, 2, 2, 2, 2, 2, 2, 2, 2, 2, 2, 2, 2, 2, 2, 2, 2, 2, 2, 2, 2,\n",
       "       2, 2, 2, 2, 2, 2, 2, 2, 2, 2, 2, 2, 2, 2, 2, 2, 2, 2])"
      ]
     },
     "execution_count": 4,
     "metadata": {},
     "output_type": "execute_result"
    }
   ],
   "source": [
    "Y"
   ]
  },
  {
   "cell_type": "code",
   "execution_count": 9,
   "metadata": {},
   "outputs": [
    {
     "data": {
      "text/plain": [
       "<matplotlib.collections.PathCollection at 0x7fa17d20b3a0>"
      ]
     },
     "execution_count": 9,
     "metadata": {},
     "output_type": "execute_result"
    },
    {
     "data": {
      "image/png": "[encoded data removed]",
      "text/plain": [
       "<Figure size 432x288 with 1 Axes>"
      ]
     },
     "metadata": {
      "needs_background": "light"
     },
     "output_type": "display_data"
    }
   ],
   "source": [
    "#Scatter plot\n",
    "col = np.array([\"red\", \"blue\", \"green\"])\n",
    "plt.scatter(X[:, 0],X[:,1],color=col[Y])"
   ]
  },
  {
   "cell_type": "code",
   "execution_count": 18,
   "metadata": {},
   "outputs": [
    {
     "data": {
      "text/plain": [
       "<matplotlib.collections.PathCollection at 0x7fa17cda9940>"
      ]
     },
     "execution_count": 18,
     "metadata": {},
     "output_type": "execute_result"
    },
    {
     "data": {
      "image/png": "[encoded data removed]",
      "text/plain": [
       "<Figure size 432x288 with 1 Axes>"
      ]
     },
     "metadata": {
      "needs_background": "light"
     },
     "output_type": "display_data"
    }
   ],
   "source": [
    "#Claasify the flower\n",
    "col = np.array([\"red\", \"blue\", \"green\"])\n",
    "plt.scatter(X[:,0], X[:,1], color=col[Y])\n",
    "Xpred = np.array([[6.2, 3.1]])\n",
    "plt.scatter(Xpred[:, 0], Xpred[:, 1], color=\"orange\")"
   ]
  },
  {
   "cell_type": "code",
   "execution_count": 22,
   "metadata": {},
   "outputs": [],
   "source": [
    "#KNN for Iris flower\n",
    "def KNN(X, Y, Xpred, K=1):\n",
    "    #distance between Xpred and X\n",
    "    if (Xpred.shape[0] != 1) & (X.shape[1] != Xpred.shape[1]):\n",
    "        raise(\"Error! Wrong dimension of X or Xpred\")\n",
    "    distance = np.sum((X-Xpred)**2, axis=1) #Broadcasting\n",
    "    ind = np.argmin(distance)\n",
    "    print(\"Closest Point has features: \", X[ind, :])\n",
    "    return Y[ind]"
   ]
  },
  {
   "cell_type": "code",
   "execution_count": 23,
   "metadata": {},
   "outputs": [
    {
     "name": "stdout",
     "output_type": "stream",
     "text": [
      "Closest Point has features:  [6.1 3. ]\n"
     ]
    },
    {
     "data": {
      "text/plain": [
       "1"
      ]
     },
     "execution_count": 23,
     "metadata": {},
     "output_type": "execute_result"
    }
   ],
   "source": [
    "KNN(X, Y, Xpred, K=1)"
   ]
  },
  {
   "cell_type": "code",
   "execution_count": 24,
   "metadata": {},
   "outputs": [
    {
     "name": "stdout",
     "output_type": "stream",
     "text": [
      "(120, 2) (120,) (30, 2) (30,)\n"
     ]
    }
   ],
   "source": [
    "from sklearn.model_selection import train_test_split\n",
    "Xtrain, Xtest, ytrain, ytest = train_test_split(X, Y, test_size=0.2)\n",
    "print(Xtrain.shape, ytrain.shape, Xtest.shape, ytest.shape)"
   ]
  },
  {
   "cell_type": "code",
   "execution_count": 25,
   "metadata": {},
   "outputs": [
    {
     "name": "stdout",
     "output_type": "stream",
     "text": [
      "Closest Point has features:  [4.4 3. ]\n",
      "Closest Point has features:  [6.5 3.2]\n",
      "Closest Point has features:  [5.  3.5]\n",
      "Closest Point has features:  [5.8 4. ]\n",
      "Closest Point has features:  [4.7 3.2]\n",
      "Closest Point has features:  [5.6 3. ]\n",
      "Closest Point has features:  [6.5 3.2]\n",
      "Closest Point has features:  [7.4 2.8]\n",
      "Closest Point has features:  [5.6 2.7]\n",
      "Closest Point has features:  [7.7 3. ]\n",
      "Closest Point has features:  [4.6 3.2]\n",
      "Closest Point has features:  [5.4 3.9]\n",
      "Closest Point has features:  [5.1 3.8]\n",
      "Closest Point has features:  [6.3 2.5]\n",
      "Closest Point has features:  [4.6 3.2]\n",
      "Closest Point has features:  [6.2 3.4]\n",
      "Closest Point has features:  [4.9 2.4]\n",
      "Closest Point has features:  [6.5 3. ]\n",
      "Closest Point has features:  [6.3 3.3]\n",
      "Closest Point has features:  [6.9 3.2]\n",
      "Closest Point has features:  [6.7 3. ]\n",
      "Closest Point has features:  [5. 3.]\n",
      "Closest Point has features:  [5.5 2.4]\n",
      "Closest Point has features:  [5.5 2.5]\n",
      "Closest Point has features:  [7.7 3. ]\n",
      "Closest Point has features:  [5.4 3.9]\n",
      "Closest Point has features:  [5.9 3. ]\n",
      "Closest Point has features:  [6.9 3.1]\n",
      "Closest Point has features:  [7.9 3.8]\n",
      "Closest Point has features:  [4.8 3. ]\n"
     ]
    }
   ],
   "source": [
    "Ypred = []\n",
    "for i in range(Xtest.shape[0]):\n",
    "    ypred = KNN(Xtrain, ytrain, Xtest[[i], :], K=1)\n",
    "    Ypred.append(ypred)"
   ]
  },
  {
   "cell_type": "code",
   "execution_count": 26,
   "metadata": {},
   "outputs": [
    {
     "data": {
      "text/plain": [
       "array([0, 2, 0, 0, 0, 1, 2, 2, 1, 2, 0, 0, 0, 2, 0, 2, 1, 2, 1, 2, 2, 0,\n",
       "       1, 1, 2, 0, 1, 1, 2, 0])"
      ]
     },
     "execution_count": 26,
     "metadata": {},
     "output_type": "execute_result"
    }
   ],
   "source": [
    "np.array(Ypred)"
   ]
  },
  {
   "cell_type": "code",
   "execution_count": 27,
   "metadata": {},
   "outputs": [
    {
     "data": {
      "text/plain": [
       "array([0, 1, 0, 0, 0, 1, 2, 2, 2, 2, 0, 0, 0, 1, 0, 2, 0, 2, 2, 1, 1, 0,\n",
       "       1, 1, 2, 0, 2, 2, 2, 0])"
      ]
     },
     "execution_count": 27,
     "metadata": {},
     "output_type": "execute_result"
    }
   ],
   "source": [
    "ytest"
   ]
  },
  {
   "cell_type": "code",
   "execution_count": 30,
   "metadata": {},
   "outputs": [
    {
     "data": {
      "text/plain": [
       "0.7"
      ]
     },
     "execution_count": 30,
     "metadata": {},
     "output_type": "execute_result"
    }
   ],
   "source": [
    "len(np.where(np.array(Ypred) - np.array(ytest)== 0)[0])/len(ytest)"
   ]
  },
  {
   "cell_type": "code",
   "execution_count": null,
   "metadata": {},
   "outputs": [],
   "source": [
    "def KNN(train,test,K):\n",
    "    #FILL IT\n",
    "    \n",
    "    return predicted_class_for_each_instance_in_test_set"
   ]
  },
  {
   "cell_type": "markdown",
   "metadata": {},
   "source": [
    "**Distance function**\n",
    "An important part of many machine learning methods is the concept of \"distance\" between examples. We often phrase this as a \"metric\" on our inputs. Create a function that takes as input two examples (any two examples, although in this case we will use it with one test and one train), and outputs the distance (we will use Euclidean for now) between them. Although there are many built-in functions the perform this task, please implement your distance function from scratch. However, you are welcome to use numpy functions as part of it (for example, you may use np.sum and similar functions, but look up how they work first).\n",
    "\n",
    "\n",
    "**Quantify the accuracy**\n",
    "Loop through all the filtered test examples, using your classification function to predict the label for each one. Also create a way of determining if the prediction was correct or not, based on the labels of the test data. Compute the fraction or percentage of correctly predicted examples. How does this change as $K$ varies? Try $K$ 1-10 (at least) and record the accuracy.\n",
    "\n"
   ]
  },
  {
   "cell_type": "markdown",
   "metadata": {},
   "source": [
    "## Questions:\n",
    "* What is the accuracy of KNN in the test set for K=1?\n",
    "* What is the accuracy of KNN in the test set for K=2?\n",
    "* What is the accuracy of KNN in the test set for K=3?\n",
    "* ...\n",
    "* What is the accuracy of KNN in the test set for K=10?"
   ]
  },
  {
   "cell_type": "markdown",
   "metadata": {},
   "source": [
    "## In depth questions\n",
    "\n",
    "* Extend your algorithm to a multi-class setting (i.e. distinguish between 3 or more digits). How does this change your best value of K?\n",
    "* If you are familiar with confusion matrices, create one for this test dataset and your “best” value of K.\n",
    "* Create a plot of accuracy vs. K.\n",
    "* Visualize some of the examples that were classified incorrectly. The examples are 16x16 gray-scale images, so you can plot them on a grid.\n",
    "\n",
    "**Analysis Questions**\n",
    "\n",
    "* What values of k did you try?\n",
    "* Which value of k produced the highest accuracy? What general trends did you observe as k increased?\n",
    "* When using the entire training dataset, what are your observations about the runtime of K-nearest neighbors? List 1-2 ideas for making this algorithm faster.\n"
   ]
  },
  {
   "cell_type": "code",
   "execution_count": null,
   "metadata": {},
   "outputs": [],
   "source": []
  }
 ],
 "metadata": {
  "kernelspec": {
   "display_name": "Python 3",
   "language": "python",
   "name": "python3"
  },
  "language_info": {
   "codemirror_mode": {
    "name": "ipython",
    "version": 3
   },
   "file_extension": ".py",
   "mimetype": "text/x-python",
   "name": "python",
   "nbconvert_exporter": "python",
   "pygments_lexer": "ipython3",
   "version": "3.8.5"
  },
  "toc": {
   "base_numbering": 1,
   "nav_menu": {},
   "number_sections": true,
   "sideBar": true,
   "skip_h1_title": false,
   "title_cell": "Table of Contents",
   "title_sidebar": "Contents",
   "toc_cell": false,
   "toc_position": {},
   "toc_section_display": true,
   "toc_window_display": false
  }
 },
 "nbformat": 4,
 "nbformat_minor": 4
}
